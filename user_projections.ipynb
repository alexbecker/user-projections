{
 "cells": [
  {
   "cell_type": "markdown",
   "metadata": {},
   "source": [
    "# Projecting User Account Growth\n",
    "\n",
    "I was recently asked to project the number of user accounts a company would have for a piece of SaaS. \n",
    "\n",
    "This is one of the simplest possible exercises in data science, requiring no fancy tools--which is good because I don't know any. But it's deceptively easy to screw up if you don't understand the basics, and so serves as a good introductory exercise and cautionary tale in data science."
   ]
  },
  {
   "cell_type": "markdown",
   "metadata": {},
   "source": [
    "## The Data\n",
    "\n",
    "The first step is always to extract and understand the dataset. In this case, I was given a single spreadsheet, which I've converted to a CSV and stripped irrelevant columns of for the purpose of this exercise, the result of which is `max_users.csv`."
   ]
  },
  {
   "cell_type": "code",
   "execution_count": 1,
   "metadata": {},
   "outputs": [
    {
     "data": {
      "text/html": [
       "<div>\n",
       "<style scoped>\n",
       "    .dataframe tbody tr th:only-of-type {\n",
       "        vertical-align: middle;\n",
       "    }\n",
       "\n",
       "    .dataframe tbody tr th {\n",
       "        vertical-align: top;\n",
       "    }\n",
       "\n",
       "    .dataframe thead th {\n",
       "        text-align: right;\n",
       "    }\n",
       "</style>\n",
       "<table border=\"1\" class=\"dataframe\">\n",
       "  <thead>\n",
       "    <tr style=\"text-align: right;\">\n",
       "      <th></th>\n",
       "      <th>Month YR</th>\n",
       "      <th>Maximum Concurrent Users</th>\n",
       "    </tr>\n",
       "  </thead>\n",
       "  <tbody>\n",
       "    <tr>\n",
       "      <th>0</th>\n",
       "      <td>Jan '13</td>\n",
       "      <td>0</td>\n",
       "    </tr>\n",
       "    <tr>\n",
       "      <th>1</th>\n",
       "      <td>Feb '13</td>\n",
       "      <td>0</td>\n",
       "    </tr>\n",
       "    <tr>\n",
       "      <th>2</th>\n",
       "      <td>Mar '13</td>\n",
       "      <td>0</td>\n",
       "    </tr>\n",
       "    <tr>\n",
       "      <th>3</th>\n",
       "      <td>April '13</td>\n",
       "      <td>0</td>\n",
       "    </tr>\n",
       "    <tr>\n",
       "      <th>4</th>\n",
       "      <td>May '13</td>\n",
       "      <td>0</td>\n",
       "    </tr>\n",
       "    <tr>\n",
       "      <th>5</th>\n",
       "      <td>June '13</td>\n",
       "      <td>0</td>\n",
       "    </tr>\n",
       "    <tr>\n",
       "      <th>6</th>\n",
       "      <td>July '13</td>\n",
       "      <td>0</td>\n",
       "    </tr>\n",
       "    <tr>\n",
       "      <th>7</th>\n",
       "      <td>Aug '13</td>\n",
       "      <td>0</td>\n",
       "    </tr>\n",
       "    <tr>\n",
       "      <th>8</th>\n",
       "      <td>Sept '13</td>\n",
       "      <td>0</td>\n",
       "    </tr>\n",
       "    <tr>\n",
       "      <th>9</th>\n",
       "      <td>Oct '13</td>\n",
       "      <td>0</td>\n",
       "    </tr>\n",
       "    <tr>\n",
       "      <th>10</th>\n",
       "      <td>Nov '13</td>\n",
       "      <td>0</td>\n",
       "    </tr>\n",
       "    <tr>\n",
       "      <th>11</th>\n",
       "      <td>Dec '13</td>\n",
       "      <td>6</td>\n",
       "    </tr>\n",
       "    <tr>\n",
       "      <th>12</th>\n",
       "      <td>Jan '14</td>\n",
       "      <td>17</td>\n",
       "    </tr>\n",
       "    <tr>\n",
       "      <th>13</th>\n",
       "      <td>Feb '14</td>\n",
       "      <td>28</td>\n",
       "    </tr>\n",
       "    <tr>\n",
       "      <th>14</th>\n",
       "      <td>Mar '14</td>\n",
       "      <td>31</td>\n",
       "    </tr>\n",
       "  </tbody>\n",
       "</table>\n",
       "</div>"
      ],
      "text/plain": [
       "     Month YR  Maximum Concurrent Users\n",
       "0     Jan '13                         0\n",
       "1     Feb '13                         0\n",
       "2     Mar '13                         0\n",
       "3   April '13                         0\n",
       "4     May '13                         0\n",
       "5    June '13                         0\n",
       "6    July '13                         0\n",
       "7     Aug '13                         0\n",
       "8    Sept '13                         0\n",
       "9     Oct '13                         0\n",
       "10    Nov '13                         0\n",
       "11    Dec '13                         6\n",
       "12    Jan '14                        17\n",
       "13    Feb '14                        28\n",
       "14    Mar '14                        31"
      ]
     },
     "execution_count": 1,
     "metadata": {},
     "output_type": "execute_result"
    }
   ],
   "source": [
    "# Load the data, which is in max_users.csv.\n",
    "import pandas as pd\n",
    "with open('max_users.csv') as fp:\n",
    "    df = pd.read_csv(fp)\n",
    "# Look at the first few rows to figure out the format and semantics of the dataset.\n",
    "df.head(15)"
   ]
  },
  {
   "cell_type": "code",
   "execution_count": 2,
   "metadata": {},
   "outputs": [],
   "source": [
    "# Start at Dec '13 since that is when the first user is created.\n",
    "users = list(df['Maximum Concurrent Users'][11:])\n",
    "months_since_dec_13 = list(range(len(users)))"
   ]
  },
  {
   "cell_type": "code",
   "execution_count": 3,
   "metadata": {},
   "outputs": [
    {
     "data": {
      "image/png": "[encoded data removed]",
      "text/plain": [
       "<Figure size 1152x288 with 1 Axes>"
      ]
     },
     "metadata": {
      "needs_background": "light"
     },
     "output_type": "display_data"
    }
   ],
   "source": [
    "# Plot the number of users to get a feel for the data.\n",
    "import matplotlib.pyplot as plt\n",
    "%matplotlib inline\n",
    "\n",
    "# Generate month labels for use in this and other plots.\n",
    "month_labels = [f'{(i + 11) % 12 + 1}/{13 + (i + 11) // 12}' for i in range(100)]\n",
    "\n",
    "fig, ax = plt.subplots(figsize=(16,4))\n",
    "ax.xaxis.set_major_locator(plt.MaxNLocator(20))\n",
    "ax.yaxis.set_label_text('Monthly Paid Users')\n",
    "ax.bar(month_labels[:len(users)], users)\n",
    "plt.show()"
   ]
  },
  {
   "cell_type": "markdown",
   "metadata": {},
   "source": [
    "The large drop between 2/18 and 3/18 jumps out. If we don't figure out what is going on there we can't reasonably make a projection, and we can't figure that out from the data alone.\n",
    "\n",
    "I showed this graph to the account manager, who immediately recognized the drops as the result of cleanups of unused accounts. They clarified that \"Maximum Concurrent Users\" meant the maximum number of users that were being *paid for* in a given month, not the number active or logged in at one time. It would have been nice to know this up front, but the reality of any data science is that you never do, which is why preliminary investigation is such an important first step."
   ]
  },
  {
   "cell_type": "markdown",
   "metadata": {},
   "source": [
    "## Goals\n",
    "\n",
    "Before moving any further, we need to decide exactly *what* we want to project, and how we will *score* our models, so that we can select the best one.\n",
    "\n",
    "I was asked to project \"future account growth\", but how far into the future? For purposes of generality, I decided to develop separate models to project short-term and long-term account growth. To score these models, I will train them on the data set for some fixed length interval up until a given month, have them project out from that month, and calculate the absolute error for each month they make a projection for. The score of the model will be the mean absolute error over all valid training sets."
   ]
  },
  {
   "cell_type": "code",
   "execution_count": 4,
   "metadata": {},
   "outputs": [],
   "source": [
    "def score_model(training_interval_len, projection_len, model_factory, plot_errors=False):\n",
    "    \"\"\"\n",
    "    Score a model based on the mean error of its projections.\n",
    "    \n",
    "    :param training_interval_len: How many data points to train the model on.\n",
    "    :param projection_len: How many data points in the future the model should project.\n",
    "    :param model_factory: A function that takes a training set and returns a function,\n",
    "                          which in turn takes a set of months forward to project to and\n",
    "                          returns a projection for those months.\n",
    "                          \n",
    "    :returns: Mean absolute error of the model, over all points in the projection and\n",
    "              all valid training intervals.\n",
    "    \"\"\"\n",
    "    abs_errors = []\n",
    "    valid_training_intervals = len(users) - training_interval_len - projection_len\n",
    "    for start in range(valid_training_intervals):\n",
    "        training_interval = users[start:start + training_interval_len]\n",
    "        model = model_factory(training_interval)\n",
    "        test_interval = list(range(1, projection_len + 1))\n",
    "        projection = model(test_interval)\n",
    "        actual = [users[start + training_interval_len + month - 1] for month in test_interval]\n",
    "        errors = [projection[i] - actual[i] for i in range(projection_len)]\n",
    "        #print(training_interval, projection, actual, errors)\n",
    "        abs_errors.append(sum(abs(err) for err in errors) / projection_len)\n",
    "        \n",
    "    if plot_errors:\n",
    "        fig, ax = plt.subplots(figsize=(12,4))\n",
    "        projection_start_months = [training_interval_len + i for i in range(valid_training_intervals)]\n",
    "        ax.xaxis.set_major_locator(plt.MaxNLocator(20))\n",
    "        ax.xaxis.set_label_text('Month Projected From')\n",
    "        ax.yaxis.set_label_text('Mean Projection Error')\n",
    "        ax.bar([month_labels[i] for i in projection_start_months], abs_errors)\n",
    "        plt.show()\n",
    "        \n",
    "    err = sum(abs_errors) / len(abs_errors)\n",
    "    print(f'Error over {projection_len} months: {err:.2f}')"
   ]
  },
  {
   "cell_type": "markdown",
   "metadata": {},
   "source": [
    "Balancing the accuracy of the model (which presumably increases with the length of the training interval) with the accuracy of the score (which increases with the number of different intervals) is difficult. We also need to choose how far in the future the short and long-term models should project for scoring.\n",
    "\n",
    "For this exercise I chose to use a 20-month training interval, so the models will be scored over the 35 intervals that end at least 1 month before the end of the set. I chose to score the short-term model on projections for a single month in the future, and the long-term model on projections for the next 5 months."
   ]
  },
  {
   "cell_type": "markdown",
   "metadata": {},
   "source": [
    "## Models\n",
    "\n",
    "Always start with the simplest possible model. Contrary to popular belief, linear regression is *not* the simplest model for many data sets, including this one. Let's see what it gives us though."
   ]
  },
  {
   "cell_type": "code",
   "execution_count": 5,
   "metadata": {},
   "outputs": [
    {
     "data": {
      "image/png": "[encoded data removed]",
      "text/plain": [
       "<Figure size 864x288 with 1 Axes>"
      ]
     },
     "metadata": {
      "needs_background": "light"
     },
     "output_type": "display_data"
    },
    {
     "name": "stdout",
     "output_type": "stream",
     "text": [
      "Error over 1 months: 30.68\n"
     ]
    },
    {
     "data": {
      "image/png": "[encoded data removed]",
      "text/plain": [
       "<Figure size 864x288 with 1 Axes>"
      ]
     },
     "metadata": {
      "needs_background": "light"
     },
     "output_type": "display_data"
    },
    {
     "name": "stdout",
     "output_type": "stream",
     "text": [
      "Error over 5 months: 39.41\n"
     ]
    }
   ],
   "source": [
    "from sklearn.linear_model import LinearRegression\n",
    "\n",
    "def regression_model_factory(training_interval):\n",
    "    model = LinearRegression()\n",
    "    X = [[i] for i in range(len(training_interval))]\n",
    "    model.fit(X, training_interval)\n",
    "    #print(model.intercept_, model.coef_[0])\n",
    "    def project(months):\n",
    "        X = [[i + len(training_interval)] for i in months]\n",
    "        return model.predict(X)\n",
    "    return project\n",
    "\n",
    "score_model(20, 1, regression_model_factory, plot_errors=True)\n",
    "score_model(20, 5, regression_model_factory, plot_errors=True)"
   ]
  },
  {
   "cell_type": "markdown",
   "metadata": {},
   "source": [
    "Those errors are huge! The linear regression is only barely taking into account the single most basic piece of information--the number of users in the previous month. Compare it with a truly simple model: the constant model, where the number of users is always the same as the previous month."
   ]
  },
  {
   "cell_type": "code",
   "execution_count": 6,
   "metadata": {},
   "outputs": [
    {
     "data": {
      "image/png": "[encoded data removed]",
      "text/plain": [
       "<Figure size 864x288 with 1 Axes>"
      ]
     },
     "metadata": {
      "needs_background": "light"
     },
     "output_type": "display_data"
    },
    {
     "name": "stdout",
     "output_type": "stream",
     "text": [
      "Error over 1 months: 15.09\n"
     ]
    },
    {
     "data": {
      "image/png": "[encoded data removed]",
      "text/plain": [
       "<Figure size 864x288 with 1 Axes>"
      ]
     },
     "metadata": {
      "needs_background": "light"
     },
     "output_type": "display_data"
    },
    {
     "name": "stdout",
     "output_type": "stream",
     "text": [
      "Error over 5 months: 32.90\n"
     ]
    }
   ],
   "source": [
    "def constant_model_factory(training_interval):\n",
    "    start_value = training_interval[-1]\n",
    "    def project(months):\n",
    "        return [start_value for _ in months]\n",
    "    return project\n",
    "    \n",
    "score_model(20, 1, constant_model_factory, plot_errors=True)\n",
    "score_model(20, 5, constant_model_factory, plot_errors=True)"
   ]
  },
  {
   "cell_type": "markdown",
   "metadata": {},
   "source": [
    "Significantly better than the linear model! Without outside action, the number of users will stay the same from month to month, so we actually should be modelling the *change* in users each month."
   ]
  },
  {
   "cell_type": "code",
   "execution_count": 7,
   "metadata": {},
   "outputs": [
    {
     "data": {
      "text/html": [
       "<div>\n",
       "<style scoped>\n",
       "    .dataframe tbody tr th:only-of-type {\n",
       "        vertical-align: middle;\n",
       "    }\n",
       "\n",
       "    .dataframe tbody tr th {\n",
       "        vertical-align: top;\n",
       "    }\n",
       "\n",
       "    .dataframe thead th {\n",
       "        text-align: right;\n",
       "    }\n",
       "</style>\n",
       "<table border=\"1\" class=\"dataframe\">\n",
       "  <thead>\n",
       "    <tr style=\"text-align: right;\">\n",
       "      <th></th>\n",
       "      <th>0</th>\n",
       "    </tr>\n",
       "  </thead>\n",
       "  <tbody>\n",
       "    <tr>\n",
       "      <th>count</th>\n",
       "      <td>56.000000</td>\n",
       "    </tr>\n",
       "    <tr>\n",
       "      <th>mean</th>\n",
       "      <td>2.321429</td>\n",
       "    </tr>\n",
       "    <tr>\n",
       "      <th>std</th>\n",
       "      <td>27.443898</td>\n",
       "    </tr>\n",
       "    <tr>\n",
       "      <th>min</th>\n",
       "      <td>-176.000000</td>\n",
       "    </tr>\n",
       "    <tr>\n",
       "      <th>25%</th>\n",
       "      <td>1.750000</td>\n",
       "    </tr>\n",
       "    <tr>\n",
       "      <th>50%</th>\n",
       "      <td>6.500000</td>\n",
       "    </tr>\n",
       "    <tr>\n",
       "      <th>75%</th>\n",
       "      <td>9.250000</td>\n",
       "    </tr>\n",
       "    <tr>\n",
       "      <th>max</th>\n",
       "      <td>52.000000</td>\n",
       "    </tr>\n",
       "  </tbody>\n",
       "</table>\n",
       "</div>"
      ],
      "text/plain": [
       "                0\n",
       "count   56.000000\n",
       "mean     2.321429\n",
       "std     27.443898\n",
       "min   -176.000000\n",
       "25%      1.750000\n",
       "50%      6.500000\n",
       "75%      9.250000\n",
       "max     52.000000"
      ]
     },
     "execution_count": 7,
     "metadata": {},
     "output_type": "execute_result"
    }
   ],
   "source": [
    "users_change = [\n",
    "    users[i] - (users[i - 1] if i else 0)\n",
    "    for i in months_since_dec_13\n",
    "]\n",
    "users_change_df = pd.DataFrame(users_change)\n",
    "users_change_df.describe()"
   ]
  },
  {
   "cell_type": "markdown",
   "metadata": {},
   "source": [
    "The standard deviation is huge compared to the mean, which is why the linear regression model performed so badly--it was highly sensitive to the outliers. In particular, it was highly sensitive to when these cleanups were performed, which is an artifact of the data rather than a true property of the number of active accounts.\n",
    "The only way to completely remove this artifact is to use a statistic that is insensitive to the timing of account cleanup, e.g. the mean or median.\n",
    "\n",
    "The median is probably more accurate for short-term projections since it all but ignores account cleanups, which are unlikely short-term. However, in the long run the mean will probably be more accurate."
   ]
  },
  {
   "cell_type": "code",
   "execution_count": 8,
   "metadata": {},
   "outputs": [
    {
     "data": {
      "image/png": "[encoded data removed]",
      "text/plain": [
       "<Figure size 864x288 with 1 Axes>"
      ]
     },
     "metadata": {
      "needs_background": "light"
     },
     "output_type": "display_data"
    },
    {
     "name": "stdout",
     "output_type": "stream",
     "text": [
      "Error over 1 months: 13.09\n"
     ]
    },
    {
     "data": {
      "image/png": "[encoded data removed]",
      "text/plain": [
       "<Figure size 864x288 with 1 Axes>"
      ]
     },
     "metadata": {
      "needs_background": "light"
     },
     "output_type": "display_data"
    },
    {
     "name": "stdout",
     "output_type": "stream",
     "text": [
      "Error over 5 months: 29.19\n"
     ]
    }
   ],
   "source": [
    "def median_model_factory(training_interval):\n",
    "    start_value = training_interval[-1]\n",
    "    users_change_df = pd.DataFrame([\n",
    "        training_interval[i] - training_interval[i - 1]\n",
    "        for i in range(len(training_interval))\n",
    "        if i > 0\n",
    "    ])\n",
    "    median = float(users_change_df.median())\n",
    "    def project(months):\n",
    "        return [start_value + i * median for i in months]\n",
    "    return project\n",
    "\n",
    "score_model(20, 1, median_model_factory, plot_errors=True)\n",
    "score_model(20, 5, median_model_factory, plot_errors=True)"
   ]
  },
  {
   "cell_type": "code",
   "execution_count": 9,
   "metadata": {},
   "outputs": [
    {
     "name": "stdout",
     "output_type": "stream",
     "text": [
      "Error over 1 months: 13.97\n",
      "Error over 5 months: 29.00\n"
     ]
    }
   ],
   "source": [
    "def mean_model_factory(training_interval):\n",
    "    start_value = training_interval[-1]\n",
    "    users_change_df = pd.DataFrame([\n",
    "        training_interval[i] - training_interval[i - 1]\n",
    "        for i in range(len(training_interval))\n",
    "        if i > 0\n",
    "    ])\n",
    "    mean = float(users_change_df.mean())\n",
    "    def project(months):\n",
    "        return [start_value + i * mean for i in months]\n",
    "    return project\n",
    "\n",
    "score_model(20, 1, mean_model_factory)\n",
    "score_model(20, 5, mean_model_factory)"
   ]
  },
  {
   "cell_type": "markdown",
   "metadata": {},
   "source": [
    "Both of these models outperform the constant model. As expected, the median is more accurate for short-term projections while the mean is more accurate for long-term, although the difference is slight.\n",
    "\n",
    "Given the limitations of the data it is unlikely we can do better without overfitting, so let's plot our projections."
   ]
  },
  {
   "cell_type": "code",
   "execution_count": 10,
   "metadata": {},
   "outputs": [
    {
     "data": {
      "image/png": "[encoded data removed]",
      "text/plain": [
       "<Figure size 1440x288 with 2 Axes>"
      ]
     },
     "metadata": {
      "needs_background": "light"
     },
     "output_type": "display_data"
    }
   ],
   "source": [
    "# Create two plots side-by-side.\n",
    "fig, (short_term, long_term) = plt.subplots(1,2, figsize=(20,4), gridspec_kw={'wspace':.2})\n",
    "short_term.set_title('Short-Term Projection')\n",
    "# Limit the number of ticks to make it readable.\n",
    "short_term.xaxis.set_major_locator(plt.MaxNLocator(10))\n",
    "# Scatter plot the observed data.\n",
    "short_term.scatter(month_labels[:len(users)], users, color='black')\n",
    "# Plot a line for the short-term projection.\n",
    "median_model = median_model_factory(users)\n",
    "projected_short_term = median_model(range(5))  # Project to end of 2018\n",
    "short_term.plot(\n",
    "    month_labels[len(users):len(users) + len(projected_short_term)],\n",
    "    projected_short_term,\n",
    "    color='blue', linewidth=3,\n",
    ")\n",
    "long_term.set_title('Long-Term Projection')\n",
    "long_term.xaxis.set_major_locator(plt.MaxNLocator(10))\n",
    "long_term.scatter(month_labels[:len(users)], users, color='black')\n",
    "mean_model = mean_model_factory(users)\n",
    "projected_long_term = mean_model(range(41))  # Project to end of 2021\n",
    "long_term.plot(\n",
    "    month_labels[len(users):len(users) + len(projected_long_term)],\n",
    "    projected_long_term,\n",
    "    color='blue', linewidth=3,\n",
    ")\n",
    "plt.show()"
   ]
  }
 ],
 "metadata": {
  "kernelspec": {
   "display_name": "Python 3",
   "language": "python",
   "name": "python3"
  },
  "language_info": {
   "codemirror_mode": {
    "name": "ipython",
    "version": 3
   },
   "file_extension": ".py",
   "mimetype": "text/x-python",
   "name": "python",
   "nbconvert_exporter": "python",
   "pygments_lexer": "ipython3",
   "version": "3.7.0"
  }
 },
 "nbformat": 4,
 "nbformat_minor": 2
}
